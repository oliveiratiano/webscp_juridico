{
 "cells": [
  {
   "cell_type": "markdown",
   "metadata": {},
   "source": [
    "# Crawler de decisões ESAJ\n",
    "#### Este notebook possui um crawler das decisões do ESAJ de primeira instância.\n",
    "## Imports e funções"
   ]
  },
  {
   "cell_type": "code",
   "execution_count": 1,
   "metadata": {},
   "outputs": [],
   "source": [
    "from bs4 import BeautifulSoup\n",
    "import requests\n",
    "import re\n",
    "import pandas as pd\n",
    "from selenium import webdriver\n",
    "from tqdm import tqdm_notebook\n",
    "re_conteudo = re.compile('(?<=</strong>)(.+)(?=</td>)', flags = re.DOTALL)\n",
    "re_teor = re.compile('(?<=<span>)(.+)(?=</span>)', flags = re.DOTALL)\n",
    "re_remhtml = re.compile('<.*?>', flags = re.DOTALL)\n",
    "\n",
    "def extrair_dados_decisao(decisao): \n",
    "    id = classe = assunto = magistrado = comarca = foro = vara = data = None\n",
    "    id = decisao.find_all('tr')[0].find('span', class_='fonteNegrito').get_text().strip()\n",
    "    for elemento in decisao.find_all('tr'):\n",
    "        if elemento.find('strong') != None:\n",
    "            if elemento.find('strong').get_text().strip() == \"Classe:\":\n",
    "                classe = re_conteudo.search(str(elemento))[0].strip()\n",
    "            elif elemento.find('strong').get_text().strip() == \"Assunto:\":\n",
    "                assunto = re_conteudo.search(str(elemento))[0].strip()\n",
    "            elif elemento.find('strong').get_text().strip() == \"Magistrado:\":\n",
    "                magistrado = re_conteudo.search(str(elemento))[0].strip()\n",
    "            elif elemento.find('strong').get_text().strip() == \"Comarca:\":\n",
    "                comarca = re_conteudo.search(str(elemento))[0].strip()\n",
    "            elif elemento.find('strong').get_text().strip() == \"Foro:\":\n",
    "                foro = re_conteudo.search(str(elemento))[0].strip()\n",
    "            elif elemento.find('strong').get_text().strip() == \"Vara:\":\n",
    "                vara = re_conteudo.search(str(elemento))[0].strip()\n",
    "            elif elemento.find('strong').get_text().strip() == \"Data de Disponibilização:\":\n",
    "                data = re_conteudo.search(str(elemento))[0].strip()\n",
    "        else:\n",
    "            teor = re_teor.search(str(elemento.find_all('span')[:][1:]))\n",
    "        \n",
    "    return((id, classe, assunto, magistrado, comarca, foro, vara, data, re.sub(re_remhtml, '', teor[0])))\n",
    "\n",
    "def listar_dados_pagina(pagina, driver):\n",
    "    pagina = str(pagina)\n",
    "    driver.execute_script(\"var trocarDePagina = function(pagina){$('div#divDadosResultado').fadeTo('slow', 0.33);$.get(window.saj.env.root+'/trocarDePagina.do', { pagina: pagina}, function(data){atualizarPagina(data)} );};var atualizarPagina = function(data){var div = $('div#resultados');div.html(data);var divResultado = $('div#divDadosResultado', div);divResultado.hide();divResultado.fadeIn('slow');bindPaginacao();var campoPesquisa = $('input[name=dadosConsulta.pesquisaLivre]');bindTermosRelacionados(campoPesquisa);bindImagemMostrarOcultarConteudo();bindLinkDownloadDocumento();};trocarDePagina(\"+pagina+\")\")\n",
    "    soup = BeautifulSoup(driver.page_source, 'html.parser')\n",
    "    lista_decisoes_pagina = soup.find_all('tr', class_='fundocinza1')\n",
    "    lista_dados = [extrair_dados_decisao(decisao) for decisao in lista_decisoes_pagina]\n",
    "    return lista_dados\n",
    "\n",
    "def extrair_intervalo_pg(lim_inf, lim_sup):\n",
    "    dados_extraidos = []\n",
    "    for i in range(lim_inf, lim_sup):\n",
    "        dados_extraidos = dados_extraidos + listar_dados_pagina(i,driver)\n",
    "    df = pd.DataFrame(dados_extraidos, columns =['id', 'Classe', 'Assunto', 'Magistrado', 'Comarca', 'Foro', 'Vara', 'Data_disp', 'Teor'])\n",
    "    df.to_csv('27_10_19_'+str(lim_inf)+'_'+str(lim_sup)+'.csv', encoding = 'latin-1')"
   ]
  },
  {
   "cell_type": "markdown",
   "metadata": {},
   "source": [
    "### Fazendo a mágica acontecer"
   ]
  },
  {
   "cell_type": "code",
   "execution_count": null,
   "metadata": {
    "scrolled": true
   },
   "outputs": [],
   "source": [
    "driver = webdriver.Firefox(executable_path = 'D:\\\\programas\\\\geckodriver\\\\geckodriver.exe')\n",
    "driver.get('http://esaj.tjsp.jus.br/cjpg/pesquisar.do?conversationId=&dadosConsulta.pesquisaLivre=JULG*&tipoNumero=UNIFICADO&numeroDigitoAnoUnificado=&foroNumeroUnificado=&dadosConsulta.nuProcesso=&dadosConsulta.nuProcessoAntigo=&classeTreeSelection.values=&classeTreeSelection.text=&assuntoTreeSelection.values=&assuntoTreeSelection.text=&agenteSelectedEntitiesList=&contadoragente=0&contadorMaioragente=0&cdAgente=&nmAgente=&dadosConsulta.dtInicio=&dadosConsulta.dtFim=&varasTreeSelection.values=&varasTreeSelection.text=&dadosConsulta.ordenacao=DESC#')\n",
    "\n",
    "range_max = 419\n",
    "range_min = 1\n",
    "lim_sup = 1\n",
    "for i in tqdm_notebook(range(range_min, range_max)):\n",
    "    lim_inf = lim_sup\n",
    "    lim_sup = i*500\n",
    "    extrair_intervalo_pg(lim_inf, lim_sup)"
   ]
  },
  {
   "cell_type": "code",
   "execution_count": null,
   "metadata": {},
   "outputs": [],
   "source": []
  }
 ],
 "metadata": {
  "kernelspec": {
   "display_name": "Python 3",
   "language": "python",
   "name": "python3"
  },
  "language_info": {
   "codemirror_mode": {
    "name": "ipython",
    "version": 3
   },
   "file_extension": ".py",
   "mimetype": "text/x-python",
   "name": "python",
   "nbconvert_exporter": "python",
   "pygments_lexer": "ipython3",
   "version": "3.7.3"
  }
 },
 "nbformat": 4,
 "nbformat_minor": 2
}
